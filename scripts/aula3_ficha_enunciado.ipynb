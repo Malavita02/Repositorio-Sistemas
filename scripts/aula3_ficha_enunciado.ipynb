{
 "cells": [
  {
   "cell_type": "markdown",
   "metadata": {
    "slideshow": {
     "slide_type": "-"
    }
   },
   "source": [
    "# Ficha de trabalho - Clustering e redução dimensionalidade\n",
    "Ficheiros a usar: \n",
    "* wines.csv - ficheiro com os dados das análises\n",
    "* wines_labels.csv - labels das classes\n",
    "\n",
    "\n",
    "**Sumário:**\n",
    "\n",
    "A data frame containing 177 rows and thirteen columns. These data are the results of chemical analyses of wines grown in the same region in Italy (Piedmont) but derived from three different cultivars (classes).\n"
   ]
  },
  {
   "cell_type": "code",
   "execution_count": 3,
   "metadata": {},
   "outputs": [],
   "source": [
    "import pandas as pd\n",
    "%matplotlib inline\n",
    "import matplotlib.pyplot as plt\n",
    "from scipy import stats\n",
    "import statsmodels.api as sm\n",
    "from sklearn import preprocessing\n",
    "from scipy.cluster.hierarchy import dendrogram, linkage"
   ]
  },
  {
   "cell_type": "markdown",
   "metadata": {
    "collapsed": true
   },
   "source": [
    "1 - Importa os dados presentes nos dois ficheiros."
   ]
  },
  {
   "cell_type": "code",
   "execution_count": 4,
   "metadata": {},
   "outputs": [
    {
     "data": {
      "text/html": [
       "<div>\n",
       "<style scoped>\n",
       "    .dataframe tbody tr th:only-of-type {\n",
       "        vertical-align: middle;\n",
       "    }\n",
       "\n",
       "    .dataframe tbody tr th {\n",
       "        vertical-align: top;\n",
       "    }\n",
       "\n",
       "    .dataframe thead th {\n",
       "        text-align: right;\n",
       "    }\n",
       "</style>\n",
       "<table border=\"1\" class=\"dataframe\">\n",
       "  <thead>\n",
       "    <tr style=\"text-align: right;\">\n",
       "      <th></th>\n",
       "      <th>alcohol</th>\n",
       "      <th>malic acid</th>\n",
       "      <th>ash</th>\n",
       "      <th>ash alkalinity</th>\n",
       "      <th>magnesium</th>\n",
       "      <th>tot. phenols</th>\n",
       "      <th>flavonoids</th>\n",
       "      <th>non-flav. phenols</th>\n",
       "      <th>proanth</th>\n",
       "      <th>col. int.</th>\n",
       "      <th>col. hue</th>\n",
       "      <th>OD ratio</th>\n",
       "      <th>proline</th>\n",
       "    </tr>\n",
       "  </thead>\n",
       "  <tbody>\n",
       "    <tr>\n",
       "      <th>1</th>\n",
       "      <td>13.20</td>\n",
       "      <td>1.78</td>\n",
       "      <td>2.14</td>\n",
       "      <td>11.2</td>\n",
       "      <td>100</td>\n",
       "      <td>2.65</td>\n",
       "      <td>2.76</td>\n",
       "      <td>0.26</td>\n",
       "      <td>1.28</td>\n",
       "      <td>4.38</td>\n",
       "      <td>1.05</td>\n",
       "      <td>3.40</td>\n",
       "      <td>1050</td>\n",
       "    </tr>\n",
       "    <tr>\n",
       "      <th>2</th>\n",
       "      <td>13.16</td>\n",
       "      <td>2.36</td>\n",
       "      <td>2.67</td>\n",
       "      <td>18.6</td>\n",
       "      <td>101</td>\n",
       "      <td>2.80</td>\n",
       "      <td>3.24</td>\n",
       "      <td>0.30</td>\n",
       "      <td>2.81</td>\n",
       "      <td>5.68</td>\n",
       "      <td>1.03</td>\n",
       "      <td>3.17</td>\n",
       "      <td>1185</td>\n",
       "    </tr>\n",
       "    <tr>\n",
       "      <th>3</th>\n",
       "      <td>14.37</td>\n",
       "      <td>1.95</td>\n",
       "      <td>2.50</td>\n",
       "      <td>16.8</td>\n",
       "      <td>113</td>\n",
       "      <td>3.85</td>\n",
       "      <td>3.49</td>\n",
       "      <td>0.24</td>\n",
       "      <td>2.18</td>\n",
       "      <td>7.80</td>\n",
       "      <td>0.86</td>\n",
       "      <td>3.45</td>\n",
       "      <td>1480</td>\n",
       "    </tr>\n",
       "    <tr>\n",
       "      <th>4</th>\n",
       "      <td>13.24</td>\n",
       "      <td>2.59</td>\n",
       "      <td>2.87</td>\n",
       "      <td>21.0</td>\n",
       "      <td>118</td>\n",
       "      <td>2.80</td>\n",
       "      <td>2.69</td>\n",
       "      <td>0.39</td>\n",
       "      <td>1.82</td>\n",
       "      <td>4.32</td>\n",
       "      <td>1.04</td>\n",
       "      <td>2.93</td>\n",
       "      <td>735</td>\n",
       "    </tr>\n",
       "    <tr>\n",
       "      <th>5</th>\n",
       "      <td>14.20</td>\n",
       "      <td>1.76</td>\n",
       "      <td>2.45</td>\n",
       "      <td>15.2</td>\n",
       "      <td>112</td>\n",
       "      <td>3.27</td>\n",
       "      <td>3.39</td>\n",
       "      <td>0.34</td>\n",
       "      <td>1.97</td>\n",
       "      <td>6.75</td>\n",
       "      <td>1.05</td>\n",
       "      <td>2.85</td>\n",
       "      <td>1450</td>\n",
       "    </tr>\n",
       "  </tbody>\n",
       "</table>\n",
       "</div>"
      ],
      "text/plain": [
       "   alcohol  malic acid   ash  ash alkalinity  magnesium  tot. phenols  \\\n",
       "1    13.20        1.78  2.14            11.2        100          2.65   \n",
       "2    13.16        2.36  2.67            18.6        101          2.80   \n",
       "3    14.37        1.95  2.50            16.8        113          3.85   \n",
       "4    13.24        2.59  2.87            21.0        118          2.80   \n",
       "5    14.20        1.76  2.45            15.2        112          3.27   \n",
       "\n",
       "   flavonoids  non-flav. phenols  proanth  col. int.  col. hue  OD ratio  \\\n",
       "1        2.76               0.26     1.28       4.38      1.05      3.40   \n",
       "2        3.24               0.30     2.81       5.68      1.03      3.17   \n",
       "3        3.49               0.24     2.18       7.80      0.86      3.45   \n",
       "4        2.69               0.39     1.82       4.32      1.04      2.93   \n",
       "5        3.39               0.34     1.97       6.75      1.05      2.85   \n",
       "\n",
       "   proline  \n",
       "1     1050  \n",
       "2     1185  \n",
       "3     1480  \n",
       "4      735  \n",
       "5     1450  "
      ]
     },
     "execution_count": 4,
     "metadata": {},
     "output_type": "execute_result"
    }
   ],
   "source": [
    "wines = pd.read_csv(r'C:\\Users\\Tiago\\GitHub\\Repositorio de Sistemas\\Repositorio-Sistemas\\datasets\\wines.csv',sep=',', index_col = 0)\n",
    "wines_lables = pd.read_csv(r'C:\\Users\\Tiago\\GitHub\\Repositorio de Sistemas\\Repositorio-Sistemas\\datasets\\wines_labels.csv',sep=',', index_col = 0)\n",
    "wines.head()\n"
   ]
  },
  {
   "cell_type": "markdown",
   "metadata": {},
   "source": [
    "2 - Explora o dataset, indicando:\n",
    " * o número de amostras e atributos, \n",
    " * tipos de dados, \n",
    " * se há valores em falta."
   ]
  },
  {
   "cell_type": "code",
   "execution_count": 5,
   "metadata": {},
   "outputs": [
    {
     "name": "stdout",
     "output_type": "stream",
     "text": [
      "O numero de amostras e atributos do wines.csv é: (177, 13)\n",
      "O numero de amostras e atributos do wines_labels.csv é: (177, 1)\n",
      "\n",
      "Tipos de dados:\n",
      "alcohol              float64\n",
      "malic acid           float64\n",
      "ash                  float64\n",
      "ash alkalinity       float64\n",
      "magnesium              int64\n",
      "tot. phenols         float64\n",
      "flavonoids           float64\n",
      "non-flav. phenols    float64\n",
      "proanth              float64\n",
      "col. int.            float64\n",
      "col. hue             float64\n",
      "OD ratio             float64\n",
      "proline                int64\n",
      "dtype: object \n",
      "\n",
      "Numero de valores em falta:\n",
      "0\n"
     ]
    }
   ],
   "source": [
    "print(f\"O numero de amostras e atributos do wines.csv é: {wines.shape}\")\n",
    "print(f\"O numero de amostras e atributos do wines_labels.csv é: {wines_lables.shape}\")\n",
    "print(\"\\nTipos de dados:\")\n",
    "print(wines.dtypes, \"\\n\")\n",
    "print(\"Numero de valores em falta:\")\n",
    "print(wines.isnull().values.sum())"
   ]
  },
  {
   "cell_type": "markdown",
   "metadata": {},
   "source": [
    "3 - Verifica se as amostras provenientes das classes \"Barolo\" e \"Barbera\" têm níveis de alcool significativamente diferentes. "
   ]
  },
  {
   "cell_type": "code",
   "execution_count": 6,
   "metadata": {},
   "outputs": [
    {
     "name": "stdout",
     "output_type": "stream",
     "text": [
      "O pvalue de barolo é de 0.5255346894264221 logo são significativamente diferentes\n",
      "O pvalue de barbera é de 0.6408318877220154 logo são significativamente diferentes\n"
     ]
    }
   ],
   "source": [
    "barolo_wines = wines[wines_lables[\"x\"] == \"Barolo\"]\n",
    "stat, p = stats.shapiro(barolo_wines[\"alcohol\"])\n",
    "print(f\"O pvalue de barolo é de {p} logo são significativamente diferentes\")\n",
    "barbera_wines = wines[wines_lables[\"x\"] == \"Barbera\"]\n",
    "stat, p = stats.shapiro(barbera_wines[\"alcohol\"])\n",
    "print(f\"O pvalue de barbera é de {p} logo são significativamente diferentes\")"
   ]
  },
  {
   "cell_type": "markdown",
   "metadata": {},
   "source": [
    "4 - Efectua uma análise semelhante à anterior mas considerando também a classe “Grignolino”. "
   ]
  },
  {
   "cell_type": "code",
   "execution_count": 7,
   "metadata": {},
   "outputs": [
    {
     "name": "stdout",
     "output_type": "stream",
     "text": [
      "             df     sum_sq    mean_sq           F        PR(>F)\n",
      "df.x        2.0  69.514462  34.757231  132.569148  1.050680e-35\n",
      "Residual  174.0  45.619651   0.262182         NaN           NaN \n",
      "\n",
      "  Multiple Comparison of Means - Tukey HSD, FWER=0.05   \n",
      "========================================================\n",
      " group1   group2   meandiff p-adj  lower   upper  reject\n",
      "--------------------------------------------------------\n",
      "Barbera     Barolo   0.5826   0.0  0.3464  0.8188   True\n",
      "Barbera Grignolino   -0.875   0.0 -1.1012 -0.6488   True\n",
      " Barolo Grignolino  -1.4576   0.0 -1.6719 -1.2434   True\n",
      "--------------------------------------------------------\n"
     ]
    }
   ],
   "source": [
    "from statsmodels.formula.api import ols\n",
    "from statsmodels.stats.anova import anova_lm\n",
    "import statsmodels.stats.multicomp as multi\n",
    "\n",
    "df = wines.join(wines_lables['x'])\n",
    "lm = ols(\"df.alcohol~df.x\", df).fit()\n",
    "\n",
    "print(anova_lm(lm), \"\\n\")\n",
    "\n",
    "mcDate = multi.MultiComparison(df.alcohol,df.x)\n",
    "Results = mcDate.tukeyhsd()\n",
    "print(Results)"
   ]
  },
  {
   "cell_type": "markdown",
   "metadata": {},
   "source": [
    "5 - Realiza um PCA e determine quantos componentes principais são necessários para explicar 90% da variabilidade dos dados. Representa os scores num gráfico onde as cores dos pontos variam consoante a classe a que a amostra pertence. O que conclui em relação à discriminação das respetivas classes?"
   ]
  },
  {
   "cell_type": "code",
   "execution_count": 14,
   "metadata": {},
   "outputs": [
    {
     "name": "stdout",
     "output_type": "stream",
     "text": [
      "[0.35983071 0.1924128  0.1117946  0.07111109 0.06628744 0.04960367\n",
      " 0.04246014 0.02697991 0.02224462 0.01898528 0.01734155 0.01295206\n",
      " 0.00799613]\n"
     ]
    },
    {
     "data": {
      "image/png": "[encoded data removed]",
      "text/plain": [
       "<Figure size 640x480 with 1 Axes>"
      ]
     },
     "metadata": {},
     "output_type": "display_data"
    }
   ],
   "source": [
    "from sklearn.decomposition import PCA\n",
    "\n",
    "wines_scaled = preprocessing.scale(wines)\n",
    "n = 13 \n",
    "pca_df = PCA(n_components=n)\n",
    "pca_df.fit(wines_scaled)\n",
    "x_reduced = pca_df.transform(wines_scaled)\n",
    "\n",
    "print(pca_df.explained_variance_ratio_)\n",
    "\n",
    "for casta in wines_lables.x.unique():\n",
    "    index_samples = wines_lables.index[wines_lables.x==casta]-1 # -1 porque a indexação dos arrays começa em 0 e as labels do atributo index no dataframe começa em 1.\n",
    "    plt.plot(x_reduced[index_samples,0],x_reduced[index_samples,1], 'o' , label=casta)\n",
    "plt.title(\"PCA\")\n",
    "plt.legend(loc='best', shadow=False)\n",
    "plt.show()\n",
    "\n"
   ]
  },
  {
   "cell_type": "markdown",
   "metadata": {},
   "source": [
    "6 - Realizar clustering hierarquico dos dados, utilizando a métrica de distância \"Manhattan”. Apresenta a àrvore resultante colorindo as folas de acordo com a classe. O que conclui olhando para os resultados?\n"
   ]
  },
  {
   "cell_type": "code",
   "execution_count": 19,
   "metadata": {},
   "outputs": [
    {
     "data": {
      "image/png": "[encoded data removed]",
      "text/plain": [
       "<Figure size 2500x1000 with 1 Axes>"
      ]
     },
     "metadata": {},
     "output_type": "display_data"
    }
   ],
   "source": [
    "z = linkage(wines_scaled, metric=\"cityblock\")\n",
    "\n",
    "plt.figure(figsize=(25, 10))\n",
    "dendrogram(\n",
    "    z,\n",
    "    labels=list(wines_lables['x']),\n",
    "    leaf_rotation=90.,  # rotates the x axis labels\n",
    "    leaf_font_size=8.,  # font size for the x axis labels\n",
    ")\n",
    "\n",
    "plt.title('Hierarchical Clustering Dendrogram')\n",
    "plt.ylabel('distance')\n",
    "\n",
    "# Assignment of colors to labels: 'a' is red, 'b' is green, etc.\n",
    "label_colors = {'Barolo': 'b', 'Grignolino': 'r', 'Barbera': 'g'}\n",
    "ax = plt.gca()\n",
    "xlbls = ax.get_xmajorticklabels()\n",
    "for lbl in xlbls:\n",
    "    lbl.set_color(label_colors[lbl.get_text()])\n",
    "\n",
    "plt.show()"
   ]
  },
  {
   "cell_type": "markdown",
   "metadata": {},
   "source": [
    "7 - Aplica a função de clustering k-means aos dados, com k =3, e compara os resultados com os presentes na variavel *wines_labels*. O que conclui desta análise? Cruze os resultados com os obtidos anteriormente."
   ]
  },
  {
   "cell_type": "code",
   "execution_count": 20,
   "metadata": {},
   "outputs": [
    {
     "data": {
      "text/html": [
       "<div>\n",
       "<style scoped>\n",
       "    .dataframe tbody tr th:only-of-type {\n",
       "        vertical-align: middle;\n",
       "    }\n",
       "\n",
       "    .dataframe tbody tr th {\n",
       "        vertical-align: top;\n",
       "    }\n",
       "\n",
       "    .dataframe thead th {\n",
       "        text-align: right;\n",
       "    }\n",
       "</style>\n",
       "<table border=\"1\" class=\"dataframe\">\n",
       "  <thead>\n",
       "    <tr style=\"text-align: right;\">\n",
       "      <th>x</th>\n",
       "      <th>Barbera</th>\n",
       "      <th>Barolo</th>\n",
       "      <th>Grignolino</th>\n",
       "    </tr>\n",
       "    <tr>\n",
       "      <th>clusters</th>\n",
       "      <th></th>\n",
       "      <th></th>\n",
       "      <th></th>\n",
       "    </tr>\n",
       "  </thead>\n",
       "  <tbody>\n",
       "    <tr>\n",
       "      <th>0</th>\n",
       "      <td>0</td>\n",
       "      <td>58</td>\n",
       "      <td>3</td>\n",
       "    </tr>\n",
       "    <tr>\n",
       "      <th>1</th>\n",
       "      <td>48</td>\n",
       "      <td>0</td>\n",
       "      <td>3</td>\n",
       "    </tr>\n",
       "    <tr>\n",
       "      <th>2</th>\n",
       "      <td>0</td>\n",
       "      <td>0</td>\n",
       "      <td>65</td>\n",
       "    </tr>\n",
       "  </tbody>\n",
       "</table>\n",
       "</div>"
      ],
      "text/plain": [
       "x         Barbera  Barolo  Grignolino\n",
       "clusters                             \n",
       "0               0      58           3\n",
       "1              48       0           3\n",
       "2               0       0          65"
      ]
     },
     "execution_count": 20,
     "metadata": {},
     "output_type": "execute_result"
    }
   ],
   "source": [
    "from sklearn.cluster import KMeans\n",
    "\n",
    "k=3\n",
    "kmeans = KMeans(n_clusters=k, max_iter=1000)\n",
    "kmeans.fit(wines_scaled)\n",
    "labels = kmeans.labels_\n",
    "centroids = kmeans.cluster_centers_\n",
    "\n",
    "pd.crosstab(labels, wines_lables[\"x\"], rownames=['clusters'] )"
   ]
  }
 ],
 "metadata": {
  "anaconda-cloud": {},
  "kernelspec": {
   "display_name": "Python 3.10.2 64-bit",
   "language": "python",
   "name": "python3"
  },
  "language_info": {
   "codemirror_mode": {
    "name": "ipython",
    "version": 3
   },
   "file_extension": ".py",
   "mimetype": "text/x-python",
   "name": "python",
   "nbconvert_exporter": "python",
   "pygments_lexer": "ipython3",
   "version": "3.10.2"
  },
  "vscode": {
   "interpreter": {
    "hash": "c833dfc047c4516882787f5aa527e056a926718dafde6b3a550de5aeaac3c19a"
   }
  }
 },
 "nbformat": 4,
 "nbformat_minor": 1
}
