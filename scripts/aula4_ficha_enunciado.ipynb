{
 "cells": [
  {
   "cell_type": "markdown",
   "metadata": {},
   "source": [
    "# Ficha de trabalho 4\n",
    "\n",
    "1- Considera o dataset cachexia. Lê os dados usando a função read_csv do pandas (dados e metadados)."
   ]
  },
  {
   "cell_type": "code",
   "execution_count": 11,
   "metadata": {},
   "outputs": [
    {
     "name": "stdout",
     "output_type": "stream",
     "text": [
      "(77, 63)\n",
      "(77, 1)\n"
     ]
    }
   ],
   "source": [
    "import pandas as pd\n",
    "data_metlab = pd.read_csv(r'C:\\Users\\Tiago\\GitHub\\Repositorio de Sistemas\\Repositorio-Sistemas\\datasets\\data_cachexia.csv',sep=',', index_col = 0)\n",
    "meta_metlab = pd.read_csv(r'C:\\Users\\Tiago\\GitHub\\Repositorio de Sistemas\\Repositorio-Sistemas\\datasets\\meta_cachexia.csv',sep=',', index_col = 0)\n",
    "print(data_metlab.shape)\n",
    "print(meta_metlab.shape)\n"
   ]
  },
  {
   "cell_type": "markdown",
   "metadata": {},
   "source": [
    "2 -Aplica a transformação necessária para que os dados seja escalonados para ter média 0 e desvio padrão 1. Verifica que as médias de todas as colunas é aproximadamente zero."
   ]
  },
  {
   "cell_type": "code",
   "execution_count": 3,
   "metadata": {},
   "outputs": [
    {
     "name": "stdout",
     "output_type": "stream",
     "text": [
      "Media global:  -1.8675365658506033e-17\n",
      "Desvio padrao global:  1.0\n"
     ]
    }
   ],
   "source": [
    "from sklearn import preprocessing\n",
    "input_data = data_metlab.values\n",
    "output_data = meta_metlab.values[:,0]\n",
    "\n",
    "input_sc = preprocessing.scale(input_data) #media 0 e desvio padrao = 1\n",
    "\n",
    "print(\"Media global: \", input_sc.mean())\n",
    "print(\"Desvio padrao global: \", input_sc.std())"
   ]
  },
  {
   "cell_type": "markdown",
   "metadata": {},
   "source": [
    "3 - Cria dois conjuntos de dados treino e teste para serem usados na criação e validação de modelos de aprendizagem máquina. Considera 30% das amostras para formar o conjunto de teste. "
   ]
  },
  {
   "cell_type": "code",
   "execution_count": 6,
   "metadata": {},
   "outputs": [],
   "source": [
    "import numpy as np\n",
    "\n",
    "numts = int(len(input_sc)*0.3)\n",
    "\n",
    "indices = np.random.permutation(len(input_sc))\n",
    "\n",
    "train_in = input_sc[indices[:-numts]]\n",
    "train_out = output_data[indices[:-numts]]\n",
    "\n",
    "test_in = input_sc[indices[-numts:]]\n",
    "test_out = output_data[indices[-numts:]]"
   ]
  },
  {
   "cell_type": "markdown",
   "metadata": {},
   "source": [
    "4 - Constroi diversos tipos de modelos de classificação treinando e testando com os conjuntos criados anteriormente. Calcula, para cada um dos modelos no test set, as métricas de erro PECC e F1-score, e calcula a matriz de confusão. Considere como classe positiva a classe \"cachexic\""
   ]
  },
  {
   "cell_type": "code",
   "execution_count": 30,
   "metadata": {},
   "outputs": [
    {
     "name": "stdout",
     "output_type": "stream",
     "text": [
      "Accuracy: 0.6086956521739131\n"
     ]
    }
   ],
   "source": [
    "#Knn\n",
    "from sklearn.neighbors import KNeighborsClassifier\n",
    "\n",
    "knn = KNeighborsClassifier()\n",
    "knn.fit(train_in, train_out)\n",
    "prev = knn.predict(test_in)\n",
    "\n",
    "print(\"Accuracy:\",knn.score(test_in, test_out))"
   ]
  },
  {
   "cell_type": "code",
   "execution_count": 31,
   "metadata": {},
   "outputs": [
    {
     "name": "stdout",
     "output_type": "stream",
     "text": [
      "PECC:  0.6086956521739131\n",
      "F1_score:  0.6896551724137931\n",
      "Confusion Matrix:\n",
      " [[10  3]\n",
      " [ 6  4]]\n"
     ]
    }
   ],
   "source": [
    "from sklearn.metrics import accuracy_score, f1_score, confusion_matrix\n",
    "\n",
    "print(\"PECC: \", accuracy_score(test_out, prev))\n",
    "print(\"F1_score: \", f1_score(test_out, prev, pos_label= \"cachexic\"))\n",
    "print(\"Confusion Matrix:\\n\", confusion_matrix(test_out, prev))"
   ]
  },
  {
   "cell_type": "code",
   "execution_count": 32,
   "metadata": {},
   "outputs": [
    {
     "name": "stdout",
     "output_type": "stream",
     "text": [
      "VP:  4\n",
      "VN:  10\n",
      "FP:  3\n",
      "FN:  6\n"
     ]
    }
   ],
   "source": [
    "tn, fp, fn, tp = confusion_matrix(test_out, prev).ravel()\n",
    "print(\"VP: \", tp)\n",
    "print(\"VN: \", tn)\n",
    "print(\"FP: \", fp)\n",
    "print(\"FN: \", fn)"
   ]
  },
  {
   "cell_type": "code",
   "execution_count": 33,
   "metadata": {},
   "outputs": [
    {
     "name": "stdout",
     "output_type": "stream",
     "text": [
      "PECC:  0.782608695652174\n",
      "F1_score:  0.8387096774193548\n",
      "Confusion Matrix:\n",
      " [[13  0]\n",
      " [ 5  5]]\n"
     ]
    }
   ],
   "source": [
    "#Arvore de decisão\n",
    "from sklearn.tree import DecisionTreeClassifier\n",
    "\n",
    "tree = DecisionTreeClassifier()\n",
    "tree.fit(train_in, train_out)\n",
    "prev = tree.predict(test_in)\n",
    "print(\"PECC: \", accuracy_score(test_out, prev))\n",
    "print(\"F1_score: \", f1_score(test_out, prev, pos_label= \"cachexic\"))\n",
    "print(\"Confusion Matrix:\\n\", confusion_matrix(test_out, prev))"
   ]
  },
  {
   "cell_type": "code",
   "execution_count": 34,
   "metadata": {},
   "outputs": [
    {
     "name": "stdout",
     "output_type": "stream",
     "text": [
      "PECC:  0.8695652173913043\n",
      "F1_score:  0.888888888888889\n",
      "Confusion Matrix:\n",
      " [[12  1]\n",
      " [ 2  8]]\n"
     ]
    }
   ],
   "source": [
    "from matplotlib import test\n",
    "from sklearn.naive_bayes import GaussianNB\n",
    "\n",
    "gaussian = GaussianNB()\n",
    "gaussian.fit(train_in, train_out)\n",
    "prev = gaussian.predict(test_in)\n",
    "print(\"PECC: \", accuracy_score(test_out, prev))\n",
    "print(\"F1_score: \", f1_score(test_out, prev, pos_label= \"cachexic\"))\n",
    "print(\"Confusion Matrix:\\n\", confusion_matrix(test_out, prev))"
   ]
  },
  {
   "cell_type": "markdown",
   "metadata": {},
   "source": [
    "5 - Usando apenas o melhor modelo do exercício anterior, compare o seu desempenho considerando dados com transformação logaritmica e posteriormente standardizados"
   ]
  },
  {
   "cell_type": "code",
   "execution_count": 35,
   "metadata": {},
   "outputs": [
    {
     "name": "stdout",
     "output_type": "stream",
     "text": [
      "PECC:  0.8695652173913043\n",
      "F1_score:  0.888888888888889\n",
      "Confusion Matrix:\n",
      " [[12  1]\n",
      " [ 2  8]]\n"
     ]
    }
   ],
   "source": [
    "input_log = np.log2(input_data)\n",
    "input_log_sc = preprocessing.scale(input_log)\n",
    "\n",
    "train_in_log = input_log_sc[indices[:-numts]]\n",
    "test_in_log = input_log_sc[indices[-numts:]]\n",
    "\n",
    "gaussian = GaussianNB()\n",
    "gaussian.fit(train_in_log, train_out)\n",
    "prev = gaussian.predict(test_in_log)\n",
    "print(\"PECC: \", accuracy_score(test_out, prev))\n",
    "print(\"F1_score: \", f1_score(test_out, prev, pos_label= \"cachexic\"))\n",
    "print(\"Confusion Matrix:\\n\", confusion_matrix(test_out, prev))"
   ]
  }
 ],
 "metadata": {
  "kernelspec": {
   "display_name": "Python 3.10.2 64-bit",
   "language": "python",
   "name": "python3"
  },
  "language_info": {
   "codemirror_mode": {
    "name": "ipython",
    "version": 3
   },
   "file_extension": ".py",
   "mimetype": "text/x-python",
   "name": "python",
   "nbconvert_exporter": "python",
   "pygments_lexer": "ipython3",
   "version": "3.10.2"
  },
  "vscode": {
   "interpreter": {
    "hash": "c833dfc047c4516882787f5aa527e056a926718dafde6b3a550de5aeaac3c19a"
   }
  }
 },
 "nbformat": 4,
 "nbformat_minor": 2
}
